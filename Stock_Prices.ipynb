{
 "cells": [
  {
   "cell_type": "code",
   "execution_count": 1,
   "metadata": {},
   "outputs": [],
   "source": [
    "import csv\n",
    "import numpy\n",
    "import pandas as pd;\n",
    "import warnings\n",
    "warnings.filterwarnings(\"ignore\")"
   ]
  },
  {
   "cell_type": "code",
   "execution_count": 2,
   "metadata": {},
   "outputs": [
    {
     "data": {
      "text/plain": [
       "date      0\n",
       "symbol    0\n",
       "open      0\n",
       "close     0\n",
       "low       0\n",
       "high      0\n",
       "volume    0\n",
       "dtype: int64"
      ]
     },
     "execution_count": 2,
     "metadata": {},
     "output_type": "execute_result"
    }
   ],
   "source": [
    "fileName = r'C:\\Users\\Joshk\\Downloads\\stock-analysis-master\\prices-split-adjusted.csv'\n",
    "df = pd.read_csv(fileName)\n",
    "df.apply(lambda x: sum(x.isnull()), axis=0)   # Checking for null values"
   ]
  },
  {
   "cell_type": "code",
   "execution_count": 3,
   "metadata": {},
   "outputs": [
    {
     "name": "stdout",
     "output_type": "stream",
     "text": [
      "Enter symbol of share?EBAY\n"
     ]
    }
   ],
   "source": [
    "symbol = df.symbol.unique()\n",
    "execute = True\n",
    "while execute:\n",
    "    sym = input('Enter symbol of share?')         #Input stock name from user\n",
    "    if sym in symbol:\n",
    "        execute = False\n",
    "    else:\n",
    "        print(\"Enter a valid share symbol\") "
   ]
  },
  {
   "cell_type": "code",
   "execution_count": 4,
   "metadata": {},
   "outputs": [
    {
     "data": {
      "text/plain": [
       "[<matplotlib.lines.Line2D at 0x18a52d13040>]"
      ]
     },
     "execution_count": 4,
     "metadata": {},
     "output_type": "execute_result"
    },
    {
     "data": {
      "image/png": "[encoded data removed]",
      "text/plain": [
       "<Figure size 432x288 with 1 Axes>"
      ]
     },
     "metadata": {
      "needs_background": "light"
     },
     "output_type": "display_data"
    }
   ],
   "source": [
    "import matplotlib.pyplot as plt\n",
    "%matplotlib inline\n",
    "df1 = df[df.symbol.apply(lambda x:x==sym)] # Retrieving data of that particular share\n",
    "plt.plot(df1.index,df1.close)"
   ]
  },
  {
   "cell_type": "code",
   "execution_count": 5,
   "metadata": {},
   "outputs": [
    {
     "data": {
      "text/html": [
       "<div>\n",
       "<style scoped>\n",
       "    .dataframe tbody tr th:only-of-type {\n",
       "        vertical-align: middle;\n",
       "    }\n",
       "\n",
       "    .dataframe tbody tr th {\n",
       "        vertical-align: top;\n",
       "    }\n",
       "\n",
       "    .dataframe thead th {\n",
       "        text-align: right;\n",
       "    }\n",
       "</style>\n",
       "<table border=\"1\" class=\"dataframe\">\n",
       "  <thead>\n",
       "    <tr style=\"text-align: right;\">\n",
       "      <th></th>\n",
       "      <th>open</th>\n",
       "      <th>close</th>\n",
       "      <th>low</th>\n",
       "      <th>high</th>\n",
       "      <th>volume</th>\n",
       "    </tr>\n",
       "  </thead>\n",
       "  <tbody>\n",
       "    <tr>\n",
       "      <th>389</th>\n",
       "      <td>9.983165</td>\n",
       "      <td>10.058923</td>\n",
       "      <td>9.941077</td>\n",
       "      <td>10.092592</td>\n",
       "      <td>22511600.0</td>\n",
       "    </tr>\n",
       "    <tr>\n",
       "      <th>857</th>\n",
       "      <td>10.012626</td>\n",
       "      <td>9.953704</td>\n",
       "      <td>9.890572</td>\n",
       "      <td>10.058923</td>\n",
       "      <td>26683100.0</td>\n",
       "    </tr>\n",
       "    <tr>\n",
       "      <th>1325</th>\n",
       "      <td>9.945285</td>\n",
       "      <td>9.890572</td>\n",
       "      <td>9.865320</td>\n",
       "      <td>10.016835</td>\n",
       "      <td>26368600.0</td>\n",
       "    </tr>\n",
       "    <tr>\n",
       "      <th>1793</th>\n",
       "      <td>9.886364</td>\n",
       "      <td>9.776935</td>\n",
       "      <td>9.751683</td>\n",
       "      <td>9.886364</td>\n",
       "      <td>25220000.0</td>\n",
       "    </tr>\n",
       "    <tr>\n",
       "      <th>2261</th>\n",
       "      <td>9.760101</td>\n",
       "      <td>9.894781</td>\n",
       "      <td>9.722222</td>\n",
       "      <td>9.949495</td>\n",
       "      <td>30484000.0</td>\n",
       "    </tr>\n",
       "  </tbody>\n",
       "</table>\n",
       "</div>"
      ],
      "text/plain": [
       "           open      close       low       high      volume\n",
       "389    9.983165  10.058923  9.941077  10.092592  22511600.0\n",
       "857   10.012626   9.953704  9.890572  10.058923  26683100.0\n",
       "1325   9.945285   9.890572  9.865320  10.016835  26368600.0\n",
       "1793   9.886364   9.776935  9.751683   9.886364  25220000.0\n",
       "2261   9.760101   9.894781  9.722222   9.949495  30484000.0"
      ]
     },
     "execution_count": 5,
     "metadata": {},
     "output_type": "execute_result"
    }
   ],
   "source": [
    "df2 = df1.loc[:,'open':] # Considering important columns\n",
    "df2.head()"
   ]
  },
  {
   "cell_type": "code",
   "execution_count": 8,
   "metadata": {},
   "outputs": [
    {
     "data": {
      "text/plain": [
       "(1739, 110)"
      ]
     },
     "execution_count": 8,
     "metadata": {},
     "output_type": "execute_result"
    }
   ],
   "source": [
    "days = 22                            # Creating features based on last 22 days of data\n",
    "df3 = pd.DataFrame()\n",
    "rows = df2.shape[0]\n",
    "for i in range(1,rows-days):\n",
    "    s = pd.Series()\n",
    "    for j in range(i,i+days):\n",
    "        s = s.append(df2.iloc[j,:])\n",
    "    df4 = pd.DataFrame(s)\n",
    "    df3 = df3.append(df4.transpose())\n",
    "df3.head() \n",
    "df3 = df3.reset_index(drop=True)\n",
    "df3.shape"
   ]
  },
  {
   "cell_type": "code",
   "execution_count": 9,
   "metadata": {
    "scrolled": true
   },
   "outputs": [
    {
     "data": {
      "text/plain": [
       "0    9.558080\n",
       "1    9.465488\n",
       "2    9.414982\n",
       "3    9.242424\n",
       "4    9.313973\n",
       "Name: close, dtype: float64"
      ]
     },
     "execution_count": 9,
     "metadata": {},
     "output_type": "execute_result"
    }
   ],
   "source": [
    "y = pd.DataFrame()\n",
    "y = df2.close[days+1:]\n",
    "y = y.transpose()\n",
    "y = y.reset_index(drop=True)\n",
    "y.head()   "
   ]
  },
  {
   "cell_type": "code",
   "execution_count": 10,
   "metadata": {},
   "outputs": [
    {
     "data": {
      "text/html": [
       "<div>\n",
       "<style scoped>\n",
       "    .dataframe tbody tr th:only-of-type {\n",
       "        vertical-align: middle;\n",
       "    }\n",
       "\n",
       "    .dataframe tbody tr th {\n",
       "        vertical-align: top;\n",
       "    }\n",
       "\n",
       "    .dataframe thead th {\n",
       "        text-align: right;\n",
       "    }\n",
       "</style>\n",
       "<table border=\"1\" class=\"dataframe\">\n",
       "  <thead>\n",
       "    <tr style=\"text-align: right;\">\n",
       "      <th></th>\n",
       "      <th>open</th>\n",
       "      <th>close</th>\n",
       "      <th>low</th>\n",
       "      <th>high</th>\n",
       "      <th>volume</th>\n",
       "      <th>open</th>\n",
       "      <th>close</th>\n",
       "      <th>low</th>\n",
       "      <th>high</th>\n",
       "      <th>volume</th>\n",
       "      <th>...</th>\n",
       "      <th>open</th>\n",
       "      <th>close</th>\n",
       "      <th>low</th>\n",
       "      <th>high</th>\n",
       "      <th>volume</th>\n",
       "      <th>open</th>\n",
       "      <th>close</th>\n",
       "      <th>low</th>\n",
       "      <th>high</th>\n",
       "      <th>volume</th>\n",
       "    </tr>\n",
       "  </thead>\n",
       "  <tbody>\n",
       "    <tr>\n",
       "      <th>0</th>\n",
       "      <td>10.012626</td>\n",
       "      <td>9.953704</td>\n",
       "      <td>9.890572</td>\n",
       "      <td>10.058923</td>\n",
       "      <td>26683100.0</td>\n",
       "      <td>9.945285</td>\n",
       "      <td>9.890572</td>\n",
       "      <td>9.865320</td>\n",
       "      <td>10.016835</td>\n",
       "      <td>26368600.0</td>\n",
       "      <td>...</td>\n",
       "      <td>9.667508</td>\n",
       "      <td>9.776935</td>\n",
       "      <td>9.629630</td>\n",
       "      <td>9.810606</td>\n",
       "      <td>34180600.0</td>\n",
       "      <td>9.659091</td>\n",
       "      <td>9.448653</td>\n",
       "      <td>9.427609</td>\n",
       "      <td>9.802189</td>\n",
       "      <td>46628000.0</td>\n",
       "    </tr>\n",
       "    <tr>\n",
       "      <th>1</th>\n",
       "      <td>9.945285</td>\n",
       "      <td>9.890572</td>\n",
       "      <td>9.865320</td>\n",
       "      <td>10.016835</td>\n",
       "      <td>26368600.0</td>\n",
       "      <td>9.886364</td>\n",
       "      <td>9.776935</td>\n",
       "      <td>9.751683</td>\n",
       "      <td>9.886364</td>\n",
       "      <td>25220000.0</td>\n",
       "      <td>...</td>\n",
       "      <td>9.659091</td>\n",
       "      <td>9.448653</td>\n",
       "      <td>9.427609</td>\n",
       "      <td>9.802189</td>\n",
       "      <td>46628000.0</td>\n",
       "      <td>9.436026</td>\n",
       "      <td>9.558080</td>\n",
       "      <td>9.360269</td>\n",
       "      <td>9.591751</td>\n",
       "      <td>37072700.0</td>\n",
       "    </tr>\n",
       "    <tr>\n",
       "      <th>2</th>\n",
       "      <td>9.886364</td>\n",
       "      <td>9.776935</td>\n",
       "      <td>9.751683</td>\n",
       "      <td>9.886364</td>\n",
       "      <td>25220000.0</td>\n",
       "      <td>9.760101</td>\n",
       "      <td>9.894781</td>\n",
       "      <td>9.722222</td>\n",
       "      <td>9.949495</td>\n",
       "      <td>30484000.0</td>\n",
       "      <td>...</td>\n",
       "      <td>9.436026</td>\n",
       "      <td>9.558080</td>\n",
       "      <td>9.360269</td>\n",
       "      <td>9.591751</td>\n",
       "      <td>37072700.0</td>\n",
       "      <td>9.566498</td>\n",
       "      <td>9.465488</td>\n",
       "      <td>9.448653</td>\n",
       "      <td>9.659091</td>\n",
       "      <td>20112600.0</td>\n",
       "    </tr>\n",
       "    <tr>\n",
       "      <th>3</th>\n",
       "      <td>9.760101</td>\n",
       "      <td>9.894781</td>\n",
       "      <td>9.722222</td>\n",
       "      <td>9.949495</td>\n",
       "      <td>30484000.0</td>\n",
       "      <td>9.903198</td>\n",
       "      <td>9.869529</td>\n",
       "      <td>9.785354</td>\n",
       "      <td>9.995791</td>\n",
       "      <td>18331000.0</td>\n",
       "      <td>...</td>\n",
       "      <td>9.566498</td>\n",
       "      <td>9.465488</td>\n",
       "      <td>9.448653</td>\n",
       "      <td>9.659091</td>\n",
       "      <td>20112600.0</td>\n",
       "      <td>9.583333</td>\n",
       "      <td>9.414982</td>\n",
       "      <td>9.360269</td>\n",
       "      <td>9.638047</td>\n",
       "      <td>28657400.0</td>\n",
       "    </tr>\n",
       "    <tr>\n",
       "      <th>4</th>\n",
       "      <td>9.903198</td>\n",
       "      <td>9.869529</td>\n",
       "      <td>9.785354</td>\n",
       "      <td>9.995791</td>\n",
       "      <td>18331000.0</td>\n",
       "      <td>9.844276</td>\n",
       "      <td>9.760101</td>\n",
       "      <td>9.663299</td>\n",
       "      <td>9.865320</td>\n",
       "      <td>25572100.0</td>\n",
       "      <td>...</td>\n",
       "      <td>9.583333</td>\n",
       "      <td>9.414982</td>\n",
       "      <td>9.360269</td>\n",
       "      <td>9.638047</td>\n",
       "      <td>28657400.0</td>\n",
       "      <td>9.389730</td>\n",
       "      <td>9.242424</td>\n",
       "      <td>9.154040</td>\n",
       "      <td>9.423401</td>\n",
       "      <td>37093100.0</td>\n",
       "    </tr>\n",
       "  </tbody>\n",
       "</table>\n",
       "<p>5 rows × 110 columns</p>\n",
       "</div>"
      ],
      "text/plain": [
       "        open     close       low       high      volume      open     close  \\\n",
       "0  10.012626  9.953704  9.890572  10.058923  26683100.0  9.945285  9.890572   \n",
       "1   9.945285  9.890572  9.865320  10.016835  26368600.0  9.886364  9.776935   \n",
       "2   9.886364  9.776935  9.751683   9.886364  25220000.0  9.760101  9.894781   \n",
       "3   9.760101  9.894781  9.722222   9.949495  30484000.0  9.903198  9.869529   \n",
       "4   9.903198  9.869529  9.785354   9.995791  18331000.0  9.844276  9.760101   \n",
       "\n",
       "        low       high      volume  ...      open     close       low  \\\n",
       "0  9.865320  10.016835  26368600.0  ...  9.667508  9.776935  9.629630   \n",
       "1  9.751683   9.886364  25220000.0  ...  9.659091  9.448653  9.427609   \n",
       "2  9.722222   9.949495  30484000.0  ...  9.436026  9.558080  9.360269   \n",
       "3  9.785354   9.995791  18331000.0  ...  9.566498  9.465488  9.448653   \n",
       "4  9.663299   9.865320  25572100.0  ...  9.583333  9.414982  9.360269   \n",
       "\n",
       "       high      volume      open     close       low      high      volume  \n",
       "0  9.810606  34180600.0  9.659091  9.448653  9.427609  9.802189  46628000.0  \n",
       "1  9.802189  46628000.0  9.436026  9.558080  9.360269  9.591751  37072700.0  \n",
       "2  9.591751  37072700.0  9.566498  9.465488  9.448653  9.659091  20112600.0  \n",
       "3  9.659091  20112600.0  9.583333  9.414982  9.360269  9.638047  28657400.0  \n",
       "4  9.638047  28657400.0  9.389730  9.242424  9.154040  9.423401  37093100.0  \n",
       "\n",
       "[5 rows x 110 columns]"
      ]
     },
     "execution_count": 10,
     "metadata": {},
     "output_type": "execute_result"
    }
   ],
   "source": [
    "from sklearn import datasets, linear_model\n",
    "from sklearn.metrics import mean_squared_error, r2_score\n",
    "model = linear_model.LinearRegression(normalize=True)         #  Using Linear Regression model\n",
    "test_days = 30\n",
    "train = df3.shape[0]-test_days\n",
    "x_train = df3.iloc[0:train]            # Dividng training and tesing data\n",
    "x_train.head() "
   ]
  },
  {
   "cell_type": "code",
   "execution_count": 11,
   "metadata": {},
   "outputs": [
    {
     "data": {
      "text/plain": [
       "LinearRegression(normalize=True)"
      ]
     },
     "execution_count": 11,
     "metadata": {},
     "output_type": "execute_result"
    }
   ],
   "source": [
    "y_train = y.iloc[0:train]\n",
    "model.fit(x_train, y_train) # Fitting Linear Model"
   ]
  },
  {
   "cell_type": "code",
   "execution_count": 12,
   "metadata": {},
   "outputs": [
    {
     "data": {
      "text/plain": [
       "0.1716354656890328"
      ]
     },
     "execution_count": 12,
     "metadata": {},
     "output_type": "execute_result"
    }
   ],
   "source": [
    "x_test = df3.iloc[train+1:]\n",
    "y_test = pd.Series(model.predict(x_test))     # Predicting the Linear Model\n",
    "y_actual = y.iloc[train+1:]\n",
    "mean_squared_error(y_test,y_actual) #Mean Squared Error of Test Data"
   ]
  },
  {
   "cell_type": "code",
   "execution_count": 13,
   "metadata": {},
   "outputs": [
    {
     "data": {
      "text/plain": [
       "[0     28.864610\n",
       " 1     28.523201\n",
       " 2     28.808290\n",
       " 3     29.139882\n",
       " 4     28.944795\n",
       " 5     29.228686\n",
       " 6     28.415522\n",
       " 7     28.537839\n",
       " 8     27.871520\n",
       " 9     27.244089\n",
       " 10    28.339272\n",
       " 11    28.295497\n",
       " 12    28.234546\n",
       " 13    28.943519\n",
       " 14    29.435276\n",
       " 15    29.948487\n",
       " 16    30.195773\n",
       " 17    29.772048\n",
       " 18    29.499885\n",
       " 19    29.757403\n",
       " 20    29.784104\n",
       " 21    29.357162\n",
       " 22    29.169578\n",
       " 23    29.308223\n",
       " 24    29.488987\n",
       " 25    29.726415\n",
       " 26    30.270522\n",
       " 27    30.098766\n",
       " 28    29.911862\n",
       " dtype: float64]"
      ]
     },
     "execution_count": 13,
     "metadata": {},
     "output_type": "execute_result"
    }
   ],
   "source": [
    "[y_test] # Model Predicted Values"
   ]
  },
  {
   "cell_type": "code",
   "execution_count": 14,
   "metadata": {},
   "outputs": [
    {
     "data": {
      "text/plain": [
       "0    28.690001\n",
       "1    29.000000\n",
       "2    29.059999\n",
       "3    28.900000\n",
       "4    28.950001\n",
       "Name: close, dtype: float64"
      ]
     },
     "execution_count": 14,
     "metadata": {},
     "output_type": "execute_result"
    }
   ],
   "source": [
    "y_actual=y_actual.reset_index(drop=True)\n",
    "y_test= y_test.reset_index(drop=True)\n",
    "y_actual.head()"
   ]
  },
  {
   "cell_type": "code",
   "execution_count": 15,
   "metadata": {},
   "outputs": [
    {
     "data": {
      "text/plain": [
       "0    28.864610\n",
       "1    28.523201\n",
       "2    28.808290\n",
       "3    29.139882\n",
       "4    28.944795\n",
       "dtype: float64"
      ]
     },
     "execution_count": 15,
     "metadata": {},
     "output_type": "execute_result"
    }
   ],
   "source": [
    "y_test.head() "
   ]
  },
  {
   "cell_type": "code",
   "execution_count": 16,
   "metadata": {},
   "outputs": [
    {
     "data": {
      "text/plain": [
       "[<matplotlib.lines.Line2D at 0x18a563c6730>]"
      ]
     },
     "execution_count": 16,
     "metadata": {},
     "output_type": "execute_result"
    },
    {
     "data": {
      "image/png": "[encoded data removed]",
      "text/plain": [
       "<Figure size 432x288 with 1 Axes>"
      ]
     },
     "metadata": {
      "needs_background": "light"
     },
     "output_type": "display_data"
    }
   ],
   "source": [
    "plt.plot(y_test)          # Comparing test predictions with actual data\n",
    "plt.plot(y_actual)        # Blue - y_test and Orange - y_actual"
   ]
  },
  {
   "cell_type": "code",
   "execution_count": 17,
   "metadata": {},
   "outputs": [
    {
     "data": {
      "text/plain": [
       "0.6774523443176987"
      ]
     },
     "execution_count": 17,
     "metadata": {},
     "output_type": "execute_result"
    }
   ],
   "source": [
    "r2_score(y_test,y_actual) #r2 score of model"
   ]
  },
  {
   "cell_type": "code",
   "execution_count": 18,
   "metadata": {},
   "outputs": [
    {
     "data": {
      "text/plain": [
       "0.1208818108941985"
      ]
     },
     "execution_count": 18,
     "metadata": {},
     "output_type": "execute_result"
    }
   ],
   "source": [
    "y_train_test = pd.Series(model.predict(x_train))\n",
    "mean_squared_error(y_train,y_train_test)          #Mean Squared Error of Training Data\n"
   ]
  },
  {
   "cell_type": "code",
   "execution_count": 19,
   "metadata": {},
   "outputs": [
    {
     "data": {
      "text/plain": [
       "0.9966835072238629"
      ]
     },
     "execution_count": 19,
     "metadata": {},
     "output_type": "execute_result"
    }
   ],
   "source": [
    "r2_score(y_train,y_train_test)                   #r2_score of Training Data"
   ]
  },
  {
   "cell_type": "code",
   "execution_count": 20,
   "metadata": {},
   "outputs": [
    {
     "data": {
      "text/plain": [
       "[<matplotlib.lines.Line2D at 0x18a564387c0>]"
      ]
     },
     "execution_count": 20,
     "metadata": {},
     "output_type": "execute_result"
    },
    {
     "data": {
      "image/png": "[encoded data removed]",
      "text/plain": [
       "<Figure size 432x288 with 1 Axes>"
      ]
     },
     "metadata": {
      "needs_background": "light"
     },
     "output_type": "display_data"
    }
   ],
   "source": [
    "y_train = y_train.reset_index(drop=True)\n",
    "y_train_test = y_train_test.reset_index(drop=True)\n",
    "plt.plot(y_train)\n",
    "plt.plot(y_train_test)            #Visualization of Predictions vs Actual Data"
   ]
  },
  {
   "cell_type": "code",
   "execution_count": 21,
   "metadata": {},
   "outputs": [
    {
     "data": {
      "text/html": [
       "<div>\n",
       "<style scoped>\n",
       "    .dataframe tbody tr th:only-of-type {\n",
       "        vertical-align: middle;\n",
       "    }\n",
       "\n",
       "    .dataframe tbody tr th {\n",
       "        vertical-align: top;\n",
       "    }\n",
       "\n",
       "    .dataframe thead th {\n",
       "        text-align: right;\n",
       "    }\n",
       "</style>\n",
       "<table border=\"1\" class=\"dataframe\">\n",
       "  <thead>\n",
       "    <tr style=\"text-align: right;\">\n",
       "      <th></th>\n",
       "      <th>open</th>\n",
       "      <th>close</th>\n",
       "      <th>low</th>\n",
       "      <th>high</th>\n",
       "      <th>volume</th>\n",
       "      <th>open</th>\n",
       "      <th>close</th>\n",
       "      <th>low</th>\n",
       "      <th>high</th>\n",
       "      <th>volume</th>\n",
       "      <th>...</th>\n",
       "      <th>open</th>\n",
       "      <th>close</th>\n",
       "      <th>low</th>\n",
       "      <th>high</th>\n",
       "      <th>volume</th>\n",
       "      <th>open</th>\n",
       "      <th>close</th>\n",
       "      <th>low</th>\n",
       "      <th>high</th>\n",
       "      <th>volume</th>\n",
       "    </tr>\n",
       "  </thead>\n",
       "  <tbody>\n",
       "    <tr>\n",
       "      <th>0</th>\n",
       "      <td>10.012626</td>\n",
       "      <td>9.953704</td>\n",
       "      <td>9.890572</td>\n",
       "      <td>10.058923</td>\n",
       "      <td>26683100.0</td>\n",
       "      <td>9.945285</td>\n",
       "      <td>9.890572</td>\n",
       "      <td>9.865320</td>\n",
       "      <td>10.016835</td>\n",
       "      <td>26368600.0</td>\n",
       "      <td>...</td>\n",
       "      <td>93.460711</td>\n",
       "      <td>95.588462</td>\n",
       "      <td>92.729767</td>\n",
       "      <td>96.247983</td>\n",
       "      <td>1.168313e+15</td>\n",
       "      <td>93.298037</td>\n",
       "      <td>89.277039</td>\n",
       "      <td>88.879812</td>\n",
       "      <td>96.082900</td>\n",
       "      <td>2.174170e+15</td>\n",
       "    </tr>\n",
       "    <tr>\n",
       "      <th>1</th>\n",
       "      <td>9.945285</td>\n",
       "      <td>9.890572</td>\n",
       "      <td>9.865320</td>\n",
       "      <td>10.016835</td>\n",
       "      <td>26368600.0</td>\n",
       "      <td>9.886364</td>\n",
       "      <td>9.776935</td>\n",
       "      <td>9.751683</td>\n",
       "      <td>9.886364</td>\n",
       "      <td>25220000.0</td>\n",
       "      <td>...</td>\n",
       "      <td>93.298037</td>\n",
       "      <td>89.277039</td>\n",
       "      <td>88.879812</td>\n",
       "      <td>96.082900</td>\n",
       "      <td>2.174170e+15</td>\n",
       "      <td>89.038588</td>\n",
       "      <td>91.356901</td>\n",
       "      <td>87.614642</td>\n",
       "      <td>92.001684</td>\n",
       "      <td>1.374385e+15</td>\n",
       "    </tr>\n",
       "    <tr>\n",
       "      <th>2</th>\n",
       "      <td>9.886364</td>\n",
       "      <td>9.776935</td>\n",
       "      <td>9.751683</td>\n",
       "      <td>9.886364</td>\n",
       "      <td>25220000.0</td>\n",
       "      <td>9.760101</td>\n",
       "      <td>9.894781</td>\n",
       "      <td>9.722222</td>\n",
       "      <td>9.949495</td>\n",
       "      <td>30484000.0</td>\n",
       "      <td>...</td>\n",
       "      <td>89.038588</td>\n",
       "      <td>91.356901</td>\n",
       "      <td>87.614642</td>\n",
       "      <td>92.001684</td>\n",
       "      <td>1.374385e+15</td>\n",
       "      <td>91.517890</td>\n",
       "      <td>89.595467</td>\n",
       "      <td>89.277039</td>\n",
       "      <td>93.298037</td>\n",
       "      <td>4.045167e+14</td>\n",
       "    </tr>\n",
       "    <tr>\n",
       "      <th>3</th>\n",
       "      <td>9.760101</td>\n",
       "      <td>9.894781</td>\n",
       "      <td>9.722222</td>\n",
       "      <td>9.949495</td>\n",
       "      <td>30484000.0</td>\n",
       "      <td>9.903198</td>\n",
       "      <td>9.869529</td>\n",
       "      <td>9.785354</td>\n",
       "      <td>9.995791</td>\n",
       "      <td>18331000.0</td>\n",
       "      <td>...</td>\n",
       "      <td>91.517890</td>\n",
       "      <td>89.595467</td>\n",
       "      <td>89.277039</td>\n",
       "      <td>93.298037</td>\n",
       "      <td>4.045167e+14</td>\n",
       "      <td>91.840270</td>\n",
       "      <td>88.641892</td>\n",
       "      <td>87.614642</td>\n",
       "      <td>92.891945</td>\n",
       "      <td>8.212466e+14</td>\n",
       "    </tr>\n",
       "    <tr>\n",
       "      <th>4</th>\n",
       "      <td>9.903198</td>\n",
       "      <td>9.869529</td>\n",
       "      <td>9.785354</td>\n",
       "      <td>9.995791</td>\n",
       "      <td>18331000.0</td>\n",
       "      <td>9.844276</td>\n",
       "      <td>9.760101</td>\n",
       "      <td>9.663299</td>\n",
       "      <td>9.865320</td>\n",
       "      <td>25572100.0</td>\n",
       "      <td>...</td>\n",
       "      <td>91.840270</td>\n",
       "      <td>88.641892</td>\n",
       "      <td>87.614642</td>\n",
       "      <td>92.891945</td>\n",
       "      <td>8.212466e+14</td>\n",
       "      <td>88.167034</td>\n",
       "      <td>85.422398</td>\n",
       "      <td>83.796448</td>\n",
       "      <td>88.800480</td>\n",
       "      <td>1.375898e+15</td>\n",
       "    </tr>\n",
       "  </tbody>\n",
       "</table>\n",
       "<p>5 rows × 220 columns</p>\n",
       "</div>"
      ],
      "text/plain": [
       "        open     close       low       high      volume      open     close  \\\n",
       "0  10.012626  9.953704  9.890572  10.058923  26683100.0  9.945285  9.890572   \n",
       "1   9.945285  9.890572  9.865320  10.016835  26368600.0  9.886364  9.776935   \n",
       "2   9.886364  9.776935  9.751683   9.886364  25220000.0  9.760101  9.894781   \n",
       "3   9.760101  9.894781  9.722222   9.949495  30484000.0  9.903198  9.869529   \n",
       "4   9.903198  9.869529  9.785354   9.995791  18331000.0  9.844276  9.760101   \n",
       "\n",
       "        low       high      volume  ...       open      close        low  \\\n",
       "0  9.865320  10.016835  26368600.0  ...  93.460711  95.588462  92.729767   \n",
       "1  9.751683   9.886364  25220000.0  ...  93.298037  89.277039  88.879812   \n",
       "2  9.722222   9.949495  30484000.0  ...  89.038588  91.356901  87.614642   \n",
       "3  9.785354   9.995791  18331000.0  ...  91.517890  89.595467  89.277039   \n",
       "4  9.663299   9.865320  25572100.0  ...  91.840270  88.641892  87.614642   \n",
       "\n",
       "        high        volume       open      close        low       high  \\\n",
       "0  96.247983  1.168313e+15  93.298037  89.277039  88.879812  96.082900   \n",
       "1  96.082900  2.174170e+15  89.038588  91.356901  87.614642  92.001684   \n",
       "2  92.001684  1.374385e+15  91.517890  89.595467  89.277039  93.298037   \n",
       "3  93.298037  4.045167e+14  91.840270  88.641892  87.614642  92.891945   \n",
       "4  92.891945  8.212466e+14  88.167034  85.422398  83.796448  88.800480   \n",
       "\n",
       "         volume  \n",
       "0  2.174170e+15  \n",
       "1  1.374385e+15  \n",
       "2  4.045167e+14  \n",
       "3  8.212466e+14  \n",
       "4  1.375898e+15  \n",
       "\n",
       "[5 rows x 220 columns]"
      ]
     },
     "execution_count": 21,
     "metadata": {},
     "output_type": "execute_result"
    }
   ],
   "source": [
    "x_train_squared = x_train**2           # Making the training features squared for Ploynomial Regression \n",
    "x_poly_train = pd.concat([x_train, x_train_squared], axis=1)\n",
    "x_poly_train = x_poly_train.reset_index(drop=True)\n",
    "x_poly_train.head() # Features for polynomial regression model"
   ]
  },
  {
   "cell_type": "code",
   "execution_count": 22,
   "metadata": {},
   "outputs": [
    {
     "data": {
      "text/html": [
       "<div>\n",
       "<style scoped>\n",
       "    .dataframe tbody tr th:only-of-type {\n",
       "        vertical-align: middle;\n",
       "    }\n",
       "\n",
       "    .dataframe tbody tr th {\n",
       "        vertical-align: top;\n",
       "    }\n",
       "\n",
       "    .dataframe thead th {\n",
       "        text-align: right;\n",
       "    }\n",
       "</style>\n",
       "<table border=\"1\" class=\"dataframe\">\n",
       "  <thead>\n",
       "    <tr style=\"text-align: right;\">\n",
       "      <th></th>\n",
       "      <th>open</th>\n",
       "      <th>close</th>\n",
       "      <th>low</th>\n",
       "      <th>high</th>\n",
       "      <th>volume</th>\n",
       "      <th>open</th>\n",
       "      <th>close</th>\n",
       "      <th>low</th>\n",
       "      <th>high</th>\n",
       "      <th>volume</th>\n",
       "      <th>...</th>\n",
       "      <th>open</th>\n",
       "      <th>close</th>\n",
       "      <th>low</th>\n",
       "      <th>high</th>\n",
       "      <th>volume</th>\n",
       "      <th>open</th>\n",
       "      <th>close</th>\n",
       "      <th>low</th>\n",
       "      <th>high</th>\n",
       "      <th>volume</th>\n",
       "    </tr>\n",
       "  </thead>\n",
       "  <tbody>\n",
       "    <tr>\n",
       "      <th>0</th>\n",
       "      <td>31.910000</td>\n",
       "      <td>32.520000</td>\n",
       "      <td>31.719999</td>\n",
       "      <td>32.639999</td>\n",
       "      <td>23765800.0</td>\n",
       "      <td>29.500000</td>\n",
       "      <td>29.020000</td>\n",
       "      <td>28.750000</td>\n",
       "      <td>29.840000</td>\n",
       "      <td>52625200.0</td>\n",
       "      <td>...</td>\n",
       "      <td>805.992043</td>\n",
       "      <td>802.588900</td>\n",
       "      <td>801.456043</td>\n",
       "      <td>834.632042</td>\n",
       "      <td>8.192965e+13</td>\n",
       "      <td>804.856957</td>\n",
       "      <td>833.476958</td>\n",
       "      <td>803.7225</td>\n",
       "      <td>836.366400</td>\n",
       "      <td>7.902677e+13</td>\n",
       "    </tr>\n",
       "    <tr>\n",
       "      <th>1</th>\n",
       "      <td>29.500000</td>\n",
       "      <td>29.020000</td>\n",
       "      <td>28.750000</td>\n",
       "      <td>29.840000</td>\n",
       "      <td>52625200.0</td>\n",
       "      <td>29.059999</td>\n",
       "      <td>29.059999</td>\n",
       "      <td>28.600000</td>\n",
       "      <td>29.190001</td>\n",
       "      <td>24223500.0</td>\n",
       "      <td>...</td>\n",
       "      <td>804.856957</td>\n",
       "      <td>833.476958</td>\n",
       "      <td>803.722500</td>\n",
       "      <td>836.366400</td>\n",
       "      <td>7.902677e+13</td>\n",
       "      <td>831.745600</td>\n",
       "      <td>823.116157</td>\n",
       "      <td>816.2449</td>\n",
       "      <td>838.102558</td>\n",
       "      <td>1.210638e+14</td>\n",
       "    </tr>\n",
       "    <tr>\n",
       "      <th>2</th>\n",
       "      <td>29.059999</td>\n",
       "      <td>29.059999</td>\n",
       "      <td>28.600000</td>\n",
       "      <td>29.190001</td>\n",
       "      <td>24223500.0</td>\n",
       "      <td>29.260000</td>\n",
       "      <td>29.219999</td>\n",
       "      <td>29.150000</td>\n",
       "      <td>29.709999</td>\n",
       "      <td>16402300.0</td>\n",
       "      <td>...</td>\n",
       "      <td>831.745600</td>\n",
       "      <td>823.116157</td>\n",
       "      <td>816.244900</td>\n",
       "      <td>838.102558</td>\n",
       "      <td>1.210638e+14</td>\n",
       "      <td>825.412900</td>\n",
       "      <td>841.000000</td>\n",
       "      <td>821.9689</td>\n",
       "      <td>849.139542</td>\n",
       "      <td>5.435081e+13</td>\n",
       "    </tr>\n",
       "    <tr>\n",
       "      <th>3</th>\n",
       "      <td>29.260000</td>\n",
       "      <td>29.219999</td>\n",
       "      <td>29.150000</td>\n",
       "      <td>29.709999</td>\n",
       "      <td>16402300.0</td>\n",
       "      <td>29.200001</td>\n",
       "      <td>29.049999</td>\n",
       "      <td>28.940001</td>\n",
       "      <td>29.389999</td>\n",
       "      <td>9739900.0</td>\n",
       "      <td>...</td>\n",
       "      <td>825.412900</td>\n",
       "      <td>841.000000</td>\n",
       "      <td>821.968900</td>\n",
       "      <td>849.139542</td>\n",
       "      <td>5.435081e+13</td>\n",
       "      <td>866.713659</td>\n",
       "      <td>844.483542</td>\n",
       "      <td>836.9449</td>\n",
       "      <td>866.713659</td>\n",
       "      <td>5.353410e+13</td>\n",
       "    </tr>\n",
       "    <tr>\n",
       "      <th>4</th>\n",
       "      <td>29.200001</td>\n",
       "      <td>29.049999</td>\n",
       "      <td>28.940001</td>\n",
       "      <td>29.389999</td>\n",
       "      <td>9739900.0</td>\n",
       "      <td>29.000000</td>\n",
       "      <td>28.820000</td>\n",
       "      <td>28.770000</td>\n",
       "      <td>29.049999</td>\n",
       "      <td>8427400.0</td>\n",
       "      <td>...</td>\n",
       "      <td>866.713659</td>\n",
       "      <td>844.483542</td>\n",
       "      <td>836.944900</td>\n",
       "      <td>866.713659</td>\n",
       "      <td>5.353410e+13</td>\n",
       "      <td>840.420100</td>\n",
       "      <td>835.210000</td>\n",
       "      <td>820.8225</td>\n",
       "      <td>845.064900</td>\n",
       "      <td>3.627412e+13</td>\n",
       "    </tr>\n",
       "  </tbody>\n",
       "</table>\n",
       "<p>5 rows × 220 columns</p>\n",
       "</div>"
      ],
      "text/plain": [
       "        open      close        low       high      volume       open  \\\n",
       "0  31.910000  32.520000  31.719999  32.639999  23765800.0  29.500000   \n",
       "1  29.500000  29.020000  28.750000  29.840000  52625200.0  29.059999   \n",
       "2  29.059999  29.059999  28.600000  29.190001  24223500.0  29.260000   \n",
       "3  29.260000  29.219999  29.150000  29.709999  16402300.0  29.200001   \n",
       "4  29.200001  29.049999  28.940001  29.389999   9739900.0  29.000000   \n",
       "\n",
       "       close        low       high      volume  ...        open       close  \\\n",
       "0  29.020000  28.750000  29.840000  52625200.0  ...  805.992043  802.588900   \n",
       "1  29.059999  28.600000  29.190001  24223500.0  ...  804.856957  833.476958   \n",
       "2  29.219999  29.150000  29.709999  16402300.0  ...  831.745600  823.116157   \n",
       "3  29.049999  28.940001  29.389999   9739900.0  ...  825.412900  841.000000   \n",
       "4  28.820000  28.770000  29.049999   8427400.0  ...  866.713659  844.483542   \n",
       "\n",
       "          low        high        volume        open       close       low  \\\n",
       "0  801.456043  834.632042  8.192965e+13  804.856957  833.476958  803.7225   \n",
       "1  803.722500  836.366400  7.902677e+13  831.745600  823.116157  816.2449   \n",
       "2  816.244900  838.102558  1.210638e+14  825.412900  841.000000  821.9689   \n",
       "3  821.968900  849.139542  5.435081e+13  866.713659  844.483542  836.9449   \n",
       "4  836.944900  866.713659  5.353410e+13  840.420100  835.210000  820.8225   \n",
       "\n",
       "         high        volume  \n",
       "0  836.366400  7.902677e+13  \n",
       "1  838.102558  1.210638e+14  \n",
       "2  849.139542  5.435081e+13  \n",
       "3  866.713659  5.353410e+13  \n",
       "4  845.064900  3.627412e+13  \n",
       "\n",
       "[5 rows x 220 columns]"
      ]
     },
     "execution_count": 22,
     "metadata": {},
     "output_type": "execute_result"
    }
   ],
   "source": [
    "x_test_squared = x_test**2          # Making the test features squared for Ploynomial Regression\n",
    "x_poly_test = pd.concat([x_test, x_test_squared], axis=1)\n",
    "x_poly_test = x_poly_test.reset_index(drop=True)\n",
    "x_poly_test.head() "
   ]
  },
  {
   "cell_type": "code",
   "execution_count": 23,
   "metadata": {},
   "outputs": [
    {
     "data": {
      "text/plain": [
       "LinearRegression(normalize=True)"
      ]
     },
     "execution_count": 23,
     "metadata": {},
     "output_type": "execute_result"
    }
   ],
   "source": [
    "poly_model = linear_model.LinearRegression(normalize=True)  \n",
    "poly_model.fit(x_poly_train, y_train)                # Fitting a Polynomial Regression Model with Squared Features"
   ]
  },
  {
   "cell_type": "code",
   "execution_count": 24,
   "metadata": {},
   "outputs": [
    {
     "data": {
      "text/plain": [
       "0.21803635526004897"
      ]
     },
     "execution_count": 24,
     "metadata": {},
     "output_type": "execute_result"
    }
   ],
   "source": [
    "y_poly_predict = pd.Series(poly_model.predict(x_poly_test))\n",
    "mean_squared_error(y_poly_predict,y_actual) #Mean Squared Error of Polynomial Regression Model"
   ]
  },
  {
   "cell_type": "code",
   "execution_count": 25,
   "metadata": {},
   "outputs": [
    {
     "data": {
      "text/plain": [
       "[<matplotlib.lines.Line2D at 0x18a56628b80>]"
      ]
     },
     "execution_count": 25,
     "metadata": {},
     "output_type": "execute_result"
    },
    {
     "data": {
      "image/png": "[encoded data removed]",
      "text/plain": [
       "<Figure size 432x288 with 1 Axes>"
      ]
     },
     "metadata": {
      "needs_background": "light"
     },
     "output_type": "display_data"
    }
   ],
   "source": [
    "plt.plot(y_poly_predict)      #Comparing test predictions with actual data \n",
    "plt.plot(y_actual)            # Blue - y_test and Orange - y_actual"
   ]
  },
  {
   "cell_type": "code",
   "execution_count": 26,
   "metadata": {},
   "outputs": [
    {
     "data": {
      "text/plain": [
       "[<matplotlib.lines.Line2D at 0x18a56694970>]"
      ]
     },
     "execution_count": 26,
     "metadata": {},
     "output_type": "execute_result"
    },
    {
     "data": {
      "image/png": "[encoded data removed]",
      "text/plain": [
       "<Figure size 432x288 with 1 Axes>"
      ]
     },
     "metadata": {
      "needs_background": "light"
     },
     "output_type": "display_data"
    }
   ],
   "source": [
    "y_poly_train_predict = poly_model.predict(x_poly_train)\n",
    "plt.plot(y_train)\n",
    "plt.plot(y_poly_train_predict) # Overfitting visualization"
   ]
  },
  {
   "cell_type": "code",
   "execution_count": null,
   "metadata": {},
   "outputs": [],
   "source": []
  },
  {
   "cell_type": "code",
   "execution_count": null,
   "metadata": {},
   "outputs": [],
   "source": []
  }
 ],
 "metadata": {
  "kernelspec": {
   "display_name": "Python 3 (ipykernel)",
   "language": "python",
   "name": "python3"
  },
  "language_info": {
   "codemirror_mode": {
    "name": "ipython",
    "version": 3
   },
   "file_extension": ".py",
   "mimetype": "text/x-python",
   "name": "python",
   "nbconvert_exporter": "python",
   "pygments_lexer": "ipython3",
   "version": "3.9.12"
  }
 },
 "nbformat": 4,
 "nbformat_minor": 2
}
